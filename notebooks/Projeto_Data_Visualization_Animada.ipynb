{
 "cells": [
  {
   "cell_type": "code",
   "execution_count": 1,
   "id": "446550fe-66d5-47ce-b275-19d13b643408",
   "metadata": {},
   "outputs": [],
   "source": [
    "# Importações necessárias\n",
    "import numpy as np\n",
    "import seaborn as sns\n",
    "import matplotlib.pyplot as plt\n",
    "from matplotlib.animation import FuncAnimation, PillowWriter\n",
    "from scipy.stats import gaussian_kde"
   ]
  },
  {
   "cell_type": "code",
   "execution_count": 2,
   "id": "08f4f1b9-37b7-4fe7-b5a7-ff46ec8bf111",
   "metadata": {},
   "outputs": [],
   "source": [
    "# Estilo visual\n",
    "sns.set(style=\"whitegrid\")\n",
    "np.random.seed(42)"
   ]
  },
  {
   "cell_type": "code",
   "execution_count": 3,
   "id": "37faf5fa-83a2-4b45-ba60-7e2881edd152",
   "metadata": {},
   "outputs": [],
   "source": [
    "# Dados\n",
    "data = np.random.normal(loc=0, scale=1, size=1000)\n",
    "bins = np.linspace(-4, 4, 30)\n",
    "bin_centers = 0.5 * (bins[1:] + bins[:-1])\n",
    "heights, _ = np.histogram(data, bins=bins, density=True)"
   ]
  },
  {
   "cell_type": "code",
   "execution_count": 4,
   "id": "7ac3fb02-c563-4619-a1e5-ec6df7c509fd",
   "metadata": {},
   "outputs": [],
   "source": [
    "# KDE\n",
    "kde = gaussian_kde(data)\n",
    "x_vals = np.linspace(-4, 4, 300)\n",
    "kde_vals = kde(x_vals)"
   ]
  },
  {
   "cell_type": "code",
   "execution_count": 5,
   "id": "793ea8cc-ea29-4922-90eb-a6f22e304bd3",
   "metadata": {},
   "outputs": [],
   "source": [
    "# Configuração da figura\n",
    "fig, ax = plt.subplots(figsize=(10, 6))\n",
    "ax.set_xlim(-4, 4)\n",
    "ax.set_ylim(0, max(heights.max(), kde_vals.max()) + 0.05)\n",
    "ax.set_title(\"Data Visualization: Histogram + KDE\", fontsize=16, weight='bold')\n",
    "ax.set_xlabel(\"Value\")\n",
    "ax.set_ylabel(\"Density\")\n",
    "\n",
    "plt.close()"
   ]
  },
  {
   "cell_type": "code",
   "execution_count": 6,
   "id": "e8961aff-e6e0-4e5c-9512-7fc1c0bf6d12",
   "metadata": {},
   "outputs": [],
   "source": [
    "# Elementos do gráfico\n",
    "bars = ax.bar(bin_centers, np.zeros_like(bin_centers), width=0.25, alpha=0.6, color=\"#69b3a2\")\n",
    "kde_line, = ax.plot([], [], color='crimson', lw=3)\n",
    "text = ax.text(-3.8, ax.get_ylim()[1] - 0.05, \"\", fontsize=13, weight='bold')"
   ]
  },
  {
   "cell_type": "code",
   "execution_count": 7,
   "id": "adaeac67-06a1-45a0-a91a-762ec41517c8",
   "metadata": {},
   "outputs": [],
   "source": [
    "# Configurações de animação\n",
    "frames_per_bar = 5\n",
    "total_bar_frames = len(bin_centers) * frames_per_bar\n",
    "total_kde_frames = 40\n",
    "total_frames = total_bar_frames + total_kde_frames"
   ]
  },
  {
   "cell_type": "code",
   "execution_count": 8,
   "id": "62a2c6a9-fb3a-48da-bea1-71407ba3cd07",
   "metadata": {},
   "outputs": [],
   "source": [
    "def animate(frame):\n",
    "    if frame < total_bar_frames:\n",
    "        # Crescimento suave das barras\n",
    "        bar_idx = frame // frames_per_bar\n",
    "        progress = (frame % frames_per_bar) / frames_per_bar\n",
    "        for i, bar in enumerate(bars):\n",
    "            if i < bar_idx:\n",
    "                bar.set_height(heights[i])\n",
    "            elif i == bar_idx:\n",
    "                bar.set_height(heights[i] * progress)\n",
    "            else:\n",
    "                bar.set_height(0)\n",
    "        text.set_text(\"Construindo histograma suavemente...\")\n",
    "    else:\n",
    "        # KDE da esquerda para a direita\n",
    "        kde_frame = frame - total_bar_frames\n",
    "        num_points = len(x_vals)\n",
    "        reveal_idx = int((kde_frame + 1) / total_kde_frames * num_points)\n",
    "        kde_line.set_data(x_vals[:reveal_idx], kde_vals[:reveal_idx])\n",
    "        text.set_text(\"Curva KDE aparecendo da esquerda para a direita...\")\n",
    "\n",
    "    return bars, kde_line, text"
   ]
  },
  {
   "cell_type": "code",
   "execution_count": 9,
   "id": "a8691c07-4257-4584-9b42-c2de9e3fd76c",
   "metadata": {},
   "outputs": [],
   "source": [
    "# Criar animação\n",
    "ani = FuncAnimation(fig, animate, frames=total_frames, interval=80, blit=False)"
   ]
  },
  {
   "cell_type": "code",
   "execution_count": 11,
   "id": "662894fa-0cf2-40e0-802d-ba4bb701549c",
   "metadata": {},
   "outputs": [
    {
     "name": "stdout",
     "output_type": "stream",
     "text": [
      "\n",
      "Animação finalizada! Salva como '../media/datavisualization_hist_kde.gif'\n"
     ]
    }
   ],
   "source": [
    "# Salvar como GIF (ou vídeo com ffmpeg, se quiser)\n",
    "ani.save(\"../media/datavisualization_hist_kde.gif\", writer=PillowWriter(fps=12))\n",
    "\n",
    "print(\"\\nAnimação finalizada! Salva como '../media/datavisualization_hist_kde.gif'\")"
   ]
  }
 ],
 "metadata": {
  "kernelspec": {
   "display_name": "Python (base)",
   "language": "python",
   "name": "base"
  },
  "language_info": {
   "codemirror_mode": {
    "name": "ipython",
    "version": 3
   },
   "file_extension": ".py",
   "mimetype": "text/x-python",
   "name": "python",
   "nbconvert_exporter": "python",
   "pygments_lexer": "ipython3",
   "version": "3.12.3"
  }
 },
 "nbformat": 4,
 "nbformat_minor": 5
}
